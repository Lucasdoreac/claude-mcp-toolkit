{
 "cells": [
  {
   "cell_type": "markdown",
   "metadata": {},
   "source": [
    "# Análise Base - Claude MCP Toolkit\n",
    "\n",
    "Notebook base para análise de dados usando o Claude MCP Toolkit."
   ]
  },
  {
   "cell_type": "code",
   "execution_count": null,
   "metadata": {},
   "source": [
    "# Importações básicas\n",
    "import pandas as pd\n",
    "import numpy as np\n",
    "import matplotlib.pyplot as plt\n",
    "import seaborn as sns\n",
    "\n",
    "# Configurações de visualização\n",
    "plt.style.use('seaborn')\n",
    "%matplotlib inline"
   ]
  },
  {
   "cell_type": "markdown",
   "metadata": {},
   "source": [
    "## Carregamento de Dados\n",
    "\n",
    "Funções auxiliares para carregar diferentes tipos de dados."
   ]
  },
  {
   "cell_type": "code",
   "execution_count": null,
   "metadata": {},
   "source": [
    "def load_csv(filepath):\n",
    "    \"\"\"Carrega arquivo CSV com configurações otimizadas\"\"\"\n",
    "    return pd.read_csv(filepath, parse_dates=True, low_memory=False)\n",
    "\n",
    "def load_excel(filepath):\n",
    "    \"\"\"Carrega arquivo Excel com configurações otimizadas\"\"\"\n",
    "    return pd.read_excel(filepath, parse_dates=True)\n",
    "\n",
    "def load_json(filepath):\n",
    "    \"\"\"Carrega arquivo JSON\"\"\"\n",
    "    return pd.read_json(filepath)"
   ]
  },
  {
   "cell_type": "markdown",
   "metadata": {},
   "source": [
    "## Análise Exploratória\n",
    "\n",
    "Funções para análise exploratória inicial dos dados."
   ]
  },
  {
   "cell_type": "code",
   "execution_count": null,
   "metadata": {},
   "source": [
    "def explore_dataframe(df):\n",
    "    \"\"\"Análise exploratória básica do DataFrame\"\"\"\n",
    "    print(\"\\nInformações Gerais:\")\n",
    "    print(df.info())\n",
    "    \n",
    "    print(\"\\nPrimeiras Linhas:\")\n",
    "    print(df.head())\n",
    "    \n",
    "    print(\"\\nEstatísticas Descritivas:\")\n",
    "    print(df.describe())\n",
    "    \n",
    "    print(\"\\nValores Nulos:\")\n",
    "    print(df.isnull().sum())"
   ]
  },
  {
   "cell_type": "markdown",
   "metadata": {},
   "source": [
    "## Visualizações\n",
    "\n",
    "Funções para criar visualizações comuns."
   ]
  },
  {
   "cell_type": "code",
   "execution_count": null,
   "metadata": {},
   "source": [
    "def plot_distribution(df, column):\n",
    "    \"\"\"Plota distribuição de uma coluna\"\"\"\n",
    "    plt.figure(figsize=(10, 6))\n",
    "    sns.histplot(data=df, x=column)\n",
    "    plt.title(f'Distribuição de {column}')\n",
    "    plt.show()\n",
    "\n",
    "def plot_correlation(df):\n",
    "    \"\"\"Plota matriz de correlação\"\"\"\n",
    "    plt.figure(figsize=(12, 8))\n",
    "    sns.heatmap(df.corr(), annot=True, cmap='coolwarm')\n",
    "    plt.title('Matriz de Correlação')\n",
    "    plt.show()"
   ]
  }
 ],
 "metadata": {
  "kernelspec": {
   "display_name": "Python 3",
   "language": "python",
   "name": "python3"
  },
  "language_info": {
   "codemirror_mode": {
    "name": "ipython",
    "version": 3
   },
   "file_extension": ".py",
   "mimetype": "text/x-python",
   "name": "python",
   "nbconvert_exporter": "python",
   "pygments_lexer": "ipython3",
   "version": "3.8.0"
  }
 },
 "nbformat": 4,
 "nbformat_minor": 4
}